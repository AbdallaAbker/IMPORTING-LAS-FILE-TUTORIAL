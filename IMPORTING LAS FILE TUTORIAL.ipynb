{
 "cells": [
  {
   "cell_type": "code",
   "execution_count": 1,
   "id": "6e1cd7bc",
   "metadata": {},
   "outputs": [
    {
     "name": "stdout",
     "output_type": "stream",
     "text": [
      "Collecting lasio\n",
      "  Downloading lasio-0.29-py2.py3-none-any.whl (38 kB)\n",
      "Requirement already satisfied: numpy in c:\\users\\surface\\anaconda3\\lib\\site-packages (from lasio) (1.19.5)\n",
      "Installing collected packages: lasio\n",
      "Successfully installed lasio-0.29\n"
     ]
    }
   ],
   "source": [
    "!pip install lasio "
   ]
  },
  {
   "cell_type": "code",
   "execution_count": 14,
   "id": "d654e6d1",
   "metadata": {},
   "outputs": [],
   "source": [
    "import pandas as pd\n",
    "import matplotlib.pyplot as plt\n",
    "import lasio\n",
    "\n",
    "%matplotlib inline"
   ]
  },
  {
   "cell_type": "code",
   "execution_count": 29,
   "id": "77bc0480",
   "metadata": {},
   "outputs": [],
   "source": [
    "las = lasio.read('DEVIATION DATA.LAS')"
   ]
  },
  {
   "cell_type": "code",
   "execution_count": 3,
   "id": "9bf07072",
   "metadata": {},
   "outputs": [
    {
     "data": {
      "text/plain": [
       "dict_keys(['Version', 'Well', 'Curves', 'Parameter', 'Other'])"
      ]
     },
     "execution_count": 3,
     "metadata": {},
     "output_type": "execute_result"
    }
   ],
   "source": [
    "las.sections.keys()"
   ]
  },
  {
   "cell_type": "code",
   "execution_count": 4,
   "id": "49d89bd3",
   "metadata": {},
   "outputs": [
    {
     "name": "stdout",
     "output_type": "stream",
     "text": [
      "START DEPTH (STRT): \t\t 34.0\n",
      "STOP DEPTH (STOP): \t\t 103.4\n",
      "STEP  DOWN_HOLE (STEP): \t\t 0.1\n",
      "NULL VALUE (NULL): \t\t -999.25\n",
      "COMPANY (COMP): \t\t COMPANY\n",
      "WELL (WELL): \t\t NA\n",
      "LOCATION (LOC): \t\t N/A N/A N/A N/A\n",
      "FIELD\\LOCATION (FLD): \t\t LAKE FIELD\n",
      "COUNTY (CNTY): \t\t WOOD BUFFALO\n",
      "PROVINCE (PROV): \t\t ALBERTA\n",
      "COUNTRY (CTRY): \t\t CANADA\n",
      "SERVICE COMPANY (SRVC): \t\t NA\n",
      "LOG DATE mm/dd/yyyy (DATE): \t\t 11/22/2020\n",
      "UNIQUE WELL ID (UWI): \t\t N/A\n",
      "LICENSE NUMBER (LIC): \t\t N/A\n",
      "X LOCATION (LATI): \t\t N/A\n",
      "Y LOCATION (LONG): \t\t N/A\n",
      "REM1 (REM1): \t\t NORTHING: 6300000.172 EASTING: 400000.542\n",
      "REM2 (REM2): \t\t RM @ BHT: 3.73 @13C\n"
     ]
    }
   ],
   "source": [
    "for item in las.sections['Well']:\n",
    "    print(f\"{item.descr} ({item.mnemonic}): \\t\\t {item.value}\")"
   ]
  },
  {
   "cell_type": "code",
   "execution_count": 30,
   "id": "a8b40d61",
   "metadata": {},
   "outputs": [
    {
     "data": {
      "text/plain": [
       "'WILD CAT'"
      ]
     },
     "execution_count": 30,
     "metadata": {},
     "output_type": "execute_result"
    }
   ],
   "source": [
    "las.well.Well.value"
   ]
  },
  {
   "cell_type": "code",
   "execution_count": 6,
   "id": "ee16ae42",
   "metadata": {},
   "outputs": [
    {
     "name": "stdout",
     "output_type": "stream",
     "text": [
      "DEPT\n",
      "T_DEPTH\n",
      "N_DEV\n",
      "E_DEV\n",
      "DISTANCE\n",
      "AZIMUTH\n",
      "SANG\n",
      "SANGB\n"
     ]
    }
   ],
   "source": [
    "for curve in las.curves:\n",
    "    print(curve.mnemonic)"
   ]
  },
  {
   "cell_type": "code",
   "execution_count": 7,
   "id": "3510a0d7",
   "metadata": {},
   "outputs": [
    {
     "name": "stdout",
     "output_type": "stream",
     "text": [
      "Curve: DEPT, \t Units: M, \t Description: 1  DEPTH\n",
      "Curve: T_DEPTH, \t Units: M, \t Description: 2  TRUE DEPTH\n",
      "Curve: N_DEV, \t Units: M, \t Description: 3  NORTH DEVIATION\n",
      "Curve: E_DEV, \t Units: M, \t Description: 4  EAST DEVIATION\n",
      "Curve: DISTANCE, \t Units: M, \t Description: 5  DEVIATED DISTANCE\n",
      "Curve: AZIMUTH, \t Units: DEG, \t Description: 6  DEVIATED AZIMUTH\n",
      "Curve: SANG, \t Units: DEG, \t Description: 7  SAMPLE SLANT ANGLE\n",
      "Curve: SANGB, \t Units: DEG, \t Description: 8  SAMPLE ANG BEARING\n",
      "There are a total of: 8 curves present within this file\n"
     ]
    }
   ],
   "source": [
    "for count, curve in enumerate(las.curves):\n",
    "    print(f\"Curve: {curve.mnemonic}, \\t Units: {curve.unit}, \\t Description: {curve.descr}\")\n",
    "    \n",
    "print(f\"There are a total of: {count+1} curves present within this file\")"
   ]
  },
  {
   "cell_type": "code",
   "execution_count": 8,
   "id": "3d000596",
   "metadata": {},
   "outputs": [],
   "source": [
    "well = las.df()"
   ]
  },
  {
   "cell_type": "code",
   "execution_count": 9,
   "id": "9866494a",
   "metadata": {},
   "outputs": [
    {
     "data": {
      "text/html": [
       "<div>\n",
       "<style scoped>\n",
       "    .dataframe tbody tr th:only-of-type {\n",
       "        vertical-align: middle;\n",
       "    }\n",
       "\n",
       "    .dataframe tbody tr th {\n",
       "        vertical-align: top;\n",
       "    }\n",
       "\n",
       "    .dataframe thead th {\n",
       "        text-align: right;\n",
       "    }\n",
       "</style>\n",
       "<table border=\"1\" class=\"dataframe\">\n",
       "  <thead>\n",
       "    <tr style=\"text-align: right;\">\n",
       "      <th></th>\n",
       "      <th>T_DEPTH</th>\n",
       "      <th>N_DEV</th>\n",
       "      <th>E_DEV</th>\n",
       "      <th>DISTANCE</th>\n",
       "      <th>AZIMUTH</th>\n",
       "      <th>SANG</th>\n",
       "      <th>SANGB</th>\n",
       "    </tr>\n",
       "    <tr>\n",
       "      <th>DEPT</th>\n",
       "      <th></th>\n",
       "      <th></th>\n",
       "      <th></th>\n",
       "      <th></th>\n",
       "      <th></th>\n",
       "      <th></th>\n",
       "      <th></th>\n",
       "    </tr>\n",
       "  </thead>\n",
       "  <tbody>\n",
       "    <tr>\n",
       "      <th>34.0</th>\n",
       "      <td>34.0000</td>\n",
       "      <td>0.0017</td>\n",
       "      <td>0.0003</td>\n",
       "      <td>0.0018</td>\n",
       "      <td>9.7143</td>\n",
       "      <td>1.0101</td>\n",
       "      <td>9.7143</td>\n",
       "    </tr>\n",
       "    <tr>\n",
       "      <th>34.1</th>\n",
       "      <td>34.1000</td>\n",
       "      <td>0.0035</td>\n",
       "      <td>0.0006</td>\n",
       "      <td>0.0035</td>\n",
       "      <td>9.2557</td>\n",
       "      <td>1.0146</td>\n",
       "      <td>8.7991</td>\n",
       "    </tr>\n",
       "    <tr>\n",
       "      <th>34.2</th>\n",
       "      <td>34.2000</td>\n",
       "      <td>0.0051</td>\n",
       "      <td>0.0007</td>\n",
       "      <td>0.0052</td>\n",
       "      <td>8.2162</td>\n",
       "      <td>0.9549</td>\n",
       "      <td>6.0119</td>\n",
       "    </tr>\n",
       "    <tr>\n",
       "      <th>34.3</th>\n",
       "      <td>34.3000</td>\n",
       "      <td>0.0069</td>\n",
       "      <td>0.0011</td>\n",
       "      <td>0.0070</td>\n",
       "      <td>8.7308</td>\n",
       "      <td>1.0189</td>\n",
       "      <td>10.2351</td>\n",
       "    </tr>\n",
       "    <tr>\n",
       "      <th>34.4</th>\n",
       "      <td>34.3999</td>\n",
       "      <td>0.0086</td>\n",
       "      <td>0.0013</td>\n",
       "      <td>0.0087</td>\n",
       "      <td>8.8791</td>\n",
       "      <td>1.0040</td>\n",
       "      <td>9.4695</td>\n",
       "    </tr>\n",
       "  </tbody>\n",
       "</table>\n",
       "</div>"
      ],
      "text/plain": [
       "      T_DEPTH   N_DEV   E_DEV  DISTANCE  AZIMUTH    SANG    SANGB\n",
       "DEPT                                                             \n",
       "34.0  34.0000  0.0017  0.0003    0.0018   9.7143  1.0101   9.7143\n",
       "34.1  34.1000  0.0035  0.0006    0.0035   9.2557  1.0146   8.7991\n",
       "34.2  34.2000  0.0051  0.0007    0.0052   8.2162  0.9549   6.0119\n",
       "34.3  34.3000  0.0069  0.0011    0.0070   8.7308  1.0189  10.2351\n",
       "34.4  34.3999  0.0086  0.0013    0.0087   8.8791  1.0040   9.4695"
      ]
     },
     "execution_count": 9,
     "metadata": {},
     "output_type": "execute_result"
    }
   ],
   "source": [
    "well.head()"
   ]
  },
  {
   "cell_type": "code",
   "execution_count": 10,
   "id": "aa073486",
   "metadata": {},
   "outputs": [
    {
     "data": {
      "text/html": [
       "<div>\n",
       "<style scoped>\n",
       "    .dataframe tbody tr th:only-of-type {\n",
       "        vertical-align: middle;\n",
       "    }\n",
       "\n",
       "    .dataframe tbody tr th {\n",
       "        vertical-align: top;\n",
       "    }\n",
       "\n",
       "    .dataframe thead th {\n",
       "        text-align: right;\n",
       "    }\n",
       "</style>\n",
       "<table border=\"1\" class=\"dataframe\">\n",
       "  <thead>\n",
       "    <tr style=\"text-align: right;\">\n",
       "      <th></th>\n",
       "      <th>T_DEPTH</th>\n",
       "      <th>N_DEV</th>\n",
       "      <th>E_DEV</th>\n",
       "      <th>DISTANCE</th>\n",
       "      <th>AZIMUTH</th>\n",
       "      <th>SANG</th>\n",
       "      <th>SANGB</th>\n",
       "    </tr>\n",
       "  </thead>\n",
       "  <tbody>\n",
       "    <tr>\n",
       "      <th>count</th>\n",
       "      <td>695.000000</td>\n",
       "      <td>695.000000</td>\n",
       "      <td>695.000000</td>\n",
       "      <td>695.000000</td>\n",
       "      <td>695.000000</td>\n",
       "      <td>695.000000</td>\n",
       "      <td>695.000000</td>\n",
       "    </tr>\n",
       "    <tr>\n",
       "      <th>mean</th>\n",
       "      <td>68.695880</td>\n",
       "      <td>0.116874</td>\n",
       "      <td>-0.062592</td>\n",
       "      <td>0.173539</td>\n",
       "      <td>228.758948</td>\n",
       "      <td>0.806257</td>\n",
       "      <td>207.941246</td>\n",
       "    </tr>\n",
       "    <tr>\n",
       "      <th>std</th>\n",
       "      <td>20.075114</td>\n",
       "      <td>0.139742</td>\n",
       "      <td>0.065414</td>\n",
       "      <td>0.106066</td>\n",
       "      <td>124.311625</td>\n",
       "      <td>0.255310</td>\n",
       "      <td>95.677229</td>\n",
       "    </tr>\n",
       "    <tr>\n",
       "      <th>min</th>\n",
       "      <td>34.000000</td>\n",
       "      <td>-0.123500</td>\n",
       "      <td>-0.180900</td>\n",
       "      <td>0.001800</td>\n",
       "      <td>0.107100</td>\n",
       "      <td>0.181800</td>\n",
       "      <td>0.113100</td>\n",
       "    </tr>\n",
       "    <tr>\n",
       "      <th>25%</th>\n",
       "      <td>51.347600</td>\n",
       "      <td>-0.018350</td>\n",
       "      <td>-0.120950</td>\n",
       "      <td>0.076150</td>\n",
       "      <td>179.028350</td>\n",
       "      <td>0.611550</td>\n",
       "      <td>151.493650</td>\n",
       "    </tr>\n",
       "    <tr>\n",
       "      <th>50%</th>\n",
       "      <td>68.696400</td>\n",
       "      <td>0.125500</td>\n",
       "      <td>-0.043100</td>\n",
       "      <td>0.154600</td>\n",
       "      <td>295.670900</td>\n",
       "      <td>0.797700</td>\n",
       "      <td>201.776000</td>\n",
       "    </tr>\n",
       "    <tr>\n",
       "      <th>75%</th>\n",
       "      <td>86.043400</td>\n",
       "      <td>0.256000</td>\n",
       "      <td>0.000350</td>\n",
       "      <td>0.284050</td>\n",
       "      <td>328.669500</td>\n",
       "      <td>1.011750</td>\n",
       "      <td>285.630600</td>\n",
       "    </tr>\n",
       "    <tr>\n",
       "      <th>max</th>\n",
       "      <td>103.392400</td>\n",
       "      <td>0.307200</td>\n",
       "      <td>0.013800</td>\n",
       "      <td>0.330800</td>\n",
       "      <td>359.866100</td>\n",
       "      <td>1.479100</td>\n",
       "      <td>359.915300</td>\n",
       "    </tr>\n",
       "  </tbody>\n",
       "</table>\n",
       "</div>"
      ],
      "text/plain": [
       "          T_DEPTH       N_DEV       E_DEV    DISTANCE     AZIMUTH        SANG  \\\n",
       "count  695.000000  695.000000  695.000000  695.000000  695.000000  695.000000   \n",
       "mean    68.695880    0.116874   -0.062592    0.173539  228.758948    0.806257   \n",
       "std     20.075114    0.139742    0.065414    0.106066  124.311625    0.255310   \n",
       "min     34.000000   -0.123500   -0.180900    0.001800    0.107100    0.181800   \n",
       "25%     51.347600   -0.018350   -0.120950    0.076150  179.028350    0.611550   \n",
       "50%     68.696400    0.125500   -0.043100    0.154600  295.670900    0.797700   \n",
       "75%     86.043400    0.256000    0.000350    0.284050  328.669500    1.011750   \n",
       "max    103.392400    0.307200    0.013800    0.330800  359.866100    1.479100   \n",
       "\n",
       "            SANGB  \n",
       "count  695.000000  \n",
       "mean   207.941246  \n",
       "std     95.677229  \n",
       "min      0.113100  \n",
       "25%    151.493650  \n",
       "50%    201.776000  \n",
       "75%    285.630600  \n",
       "max    359.915300  "
      ]
     },
     "execution_count": 10,
     "metadata": {},
     "output_type": "execute_result"
    }
   ],
   "source": [
    "well.describe()"
   ]
  },
  {
   "cell_type": "code",
   "execution_count": 11,
   "id": "1ee2e5c3",
   "metadata": {},
   "outputs": [
    {
     "name": "stdout",
     "output_type": "stream",
     "text": [
      "<class 'pandas.core.frame.DataFrame'>\n",
      "Float64Index: 695 entries, 34.0 to 103.4\n",
      "Data columns (total 7 columns):\n",
      " #   Column    Non-Null Count  Dtype  \n",
      "---  ------    --------------  -----  \n",
      " 0   T_DEPTH   695 non-null    float64\n",
      " 1   N_DEV     695 non-null    float64\n",
      " 2   E_DEV     695 non-null    float64\n",
      " 3   DISTANCE  695 non-null    float64\n",
      " 4   AZIMUTH   695 non-null    float64\n",
      " 5   SANG      695 non-null    float64\n",
      " 6   SANGB     695 non-null    float64\n",
      "dtypes: float64(7)\n",
      "memory usage: 43.4 KB\n"
     ]
    }
   ],
   "source": [
    "well.info()"
   ]
  },
  {
   "cell_type": "code",
   "execution_count": 27,
   "id": "20f44049",
   "metadata": {},
   "outputs": [
    {
     "data": {
      "text/plain": [
       "<AxesSubplot:xlabel='DEPT'>"
      ]
     },
     "execution_count": 27,
     "metadata": {},
     "output_type": "execute_result"
    },
    {
     "data": {
      "text/plain": [
       "<Figure size 864x720 with 0 Axes>"
      ]
     },
     "metadata": {},
     "output_type": "display_data"
    },
    {
     "data": {
      "image/png": "[encoded data removed]",
      "text/plain": [
       "<Figure size 432x288 with 1 Axes>"
      ]
     },
     "metadata": {
      "needs_background": "light"
     },
     "output_type": "display_data"
    }
   ],
   "source": [
    "well.plot(kind = 'line')"
   ]
  },
  {
   "cell_type": "markdown",
   "id": "ec211cf6",
   "metadata": {},
   "source": [
    "### Thank you!"
   ]
  }
 ],
 "metadata": {
  "kernelspec": {
   "display_name": "Python 3",
   "language": "python",
   "name": "python3"
  },
  "language_info": {
   "codemirror_mode": {
    "name": "ipython",
    "version": 3
   },
   "file_extension": ".py",
   "mimetype": "text/x-python",
   "name": "python",
   "nbconvert_exporter": "python",
   "pygments_lexer": "ipython3",
   "version": "3.8.8"
  }
 },
 "nbformat": 4,
 "nbformat_minor": 5
}
